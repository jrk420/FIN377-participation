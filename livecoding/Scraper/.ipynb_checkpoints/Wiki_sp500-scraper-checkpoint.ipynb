{
 "cells": [
  {
   "cell_type": "code",
   "execution_count": 8,
   "metadata": {},
   "outputs": [],
   "source": [
    "import pandas as pd\n",
    "from requests_html import HTMLSession\n",
    "import os\n",
    "import re\n",
    "### Section 1: get urls to crawl (or data that can build the urls)\n",
    "\n",
    "#if\n",
    "#open page, find links,\n",
    "#save as an input\n",
    "\n",
    "### Section 2: crawl the urls"
   ]
  },
  {
   "cell_type": "code",
   "execution_count": 7,
   "metadata": {},
   "outputs": [],
   "source": [
    "#Open Page\n",
    "if not os.path.exists('input/sp500_urls.csv'):\n",
    "\n",
    "    session = HTMLSession()\n",
    "    url = 'https://en.m.wikipedia.org/wiki/List_of_S%26P_500_companies'\n",
    "    r = session.get(url)\n",
    "\n",
    "    #Find the links\n",
    "    r.html.absolute_links\n",
    "    table = r.html.find('#constituents')[0]\n",
    "    table_rows = table.find('tr')[1:]\n",
    "    #r.html.find('')\n",
    "    colinks = []\n",
    "    for row in table_rows:\n",
    "        a_url = list(row.find('td')[1].absolute_links)[0]\n",
    "        colinks.append(a_url)\n",
    "\n",
    "    if not os.path.exists('input/'):\n",
    "        os.makedirs('input/')\n",
    "    pd.DataFrame(colinks).to_csv('input/sp500_urls.csv', index = False, header = False)\n",
    "else:\n",
    "    colinks = pd.read_csv('input/sp500_urls.csv', names = ['firm']) ['firm'].to_list()"
   ]
  },
  {
   "cell_type": "code",
   "execution_count": null,
   "metadata": {},
   "outputs": [],
   "source": [
    "#Section 2: Crawl the urls\n",
    "\n",
    "from time import sleep\n",
    "from tqdm.notebook import tqdm\n",
    "#for url in colinks[:15]\n",
    "for url in tqdm(colinks,total=len(colinks)):\n",
    "    folder = 'wiki_html/'\n",
    "    if not os.path.exists('wiki_html/'):\n",
    "        os.markdirs('wiki_html/')\n",
    "    name = re.sub( r'\\W+','',url.split('/')[-1])\n",
    "    filepath = folder + name +'.txt'\n",
    "                  \n",
    "    if not os.path.exists(filepath):\n",
    "        try:\n",
    "            r = session.get(url)\n",
    "        except:\n",
    "            print('sad face failure:',url)\n",
    "        else:\n",
    "            with open(filepath,'w',encoding = 'utf8') as f:\n",
    "                f.write(r.text)\n",
    "            sleep(2)\n",
    "        "
   ]
  },
  {
   "cell_type": "code",
   "execution_count": null,
   "metadata": {},
   "outputs": [],
   "source": [
    "#Section 3: Measure Risk\n",
    "\n"
   ]
  },
  {
   "cell_type": "code",
   "execution_count": null,
   "metadata": {},
   "outputs": [],
   "source": [
    "#Section 4: Analysis\n",
    "\n",
    "load the risk"
   ]
  }
 ],
 "metadata": {
  "kernelspec": {
   "display_name": "Python 3",
   "language": "python",
   "name": "python3"
  },
  "language_info": {
   "codemirror_mode": {
    "name": "ipython",
    "version": 3
   },
   "file_extension": ".py",
   "mimetype": "text/x-python",
   "name": "python",
   "nbconvert_exporter": "python",
   "pygments_lexer": "ipython3",
   "version": "3.7.1"
  }
 },
 "nbformat": 4,
 "nbformat_minor": 2
}
