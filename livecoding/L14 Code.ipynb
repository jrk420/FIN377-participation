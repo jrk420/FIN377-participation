{
 "cells": [
  {
   "cell_type": "code",
   "execution_count": 1,
   "metadata": {},
   "outputs": [],
   "source": [
    "import re"
   ]
  },
  {
   "cell_type": "code",
   "execution_count": 2,
   "metadata": {},
   "outputs": [
    {
     "data": {
      "text/plain": [
       "<re.Match object; span=(0, 1), match='a'>"
      ]
     },
     "execution_count": 2,
     "metadata": {},
     "output_type": "execute_result"
    }
   ],
   "source": [
    "re.search(\"[ab]\",\"abcedf\")  #creates a match obj"
   ]
  },
  {
   "cell_type": "code",
   "execution_count": 3,
   "metadata": {},
   "outputs": [
    {
     "name": "stdout",
     "output_type": "stream",
     "text": [
      "no match\n"
     ]
    },
    {
     "data": {
      "text/plain": [
       "[]"
      ]
     },
     "execution_count": 3,
     "metadata": {},
     "output_type": "execute_result"
    }
   ],
   "source": [
    "#re.search --> match obj which is bool\n",
    "\n",
    "if re.search(\"[xyz]\",\"abcedf\"):   #match obj are True if not empty\n",
    "    print ('found a match!')\n",
    "else:\n",
    "    print ('no match')\n",
    "    \n",
    "#how many hits --> len(re.findall())\n",
    "re.findall(\"[a-z],[a-z]\",\"abcedf\")\n",
    "\n",
    "#ANOTHER GOOD IDEA - put \"r\" before the pattern\n",
    "re.findall(\"\\bc\",\"cabccccccccdef\") # \\b means boundary"
   ]
  },
  {
   "cell_type": "code",
   "execution_count": 4,
   "metadata": {},
   "outputs": [
    {
     "data": {
      "text/plain": [
       "'\\x08c'"
      ]
     },
     "execution_count": 4,
     "metadata": {},
     "output_type": "execute_result"
    }
   ],
   "source": [
    "\"\\bc\""
   ]
  },
  {
   "cell_type": "code",
   "execution_count": 5,
   "metadata": {},
   "outputs": [
    {
     "data": {
      "text/plain": [
       "'\\\\bc'"
      ]
     },
     "execution_count": 5,
     "metadata": {},
     "output_type": "execute_result"
    }
   ],
   "source": [
    "r\"\\bc\" # r means raw, means slashes are just slashes"
   ]
  },
  {
   "cell_type": "code",
   "execution_count": 8,
   "metadata": {},
   "outputs": [
    {
     "data": {
      "text/plain": [
       "['hey', 'the', 'guy']"
      ]
     },
     "execution_count": 8,
     "metadata": {},
     "output_type": "execute_result"
    }
   ],
   "source": [
    "# \\w --> \"word\" character = [A-Za-z0-9_]\n",
    "# {#} --> exactly this many instances\n",
    "\n",
    "text = 'hey there guy'\n",
    "re.findall(r'\\w{3}\\b',text)"
   ]
  },
  {
   "cell_type": "markdown",
   "metadata": {},
   "source": [
    "# a real text analysis tool: NEAR"
   ]
  },
  {
   "cell_type": "code",
   "execution_count": 9,
   "metadata": {},
   "outputs": [
    {
     "name": "stdout",
     "output_type": "stream",
     "text": [
      "0\n",
      "1\n",
      "0\n",
      "0\n",
      "0\n",
      "1\n",
      "0\n",
      "0\n",
      "1\n"
     ]
    }
   ],
   "source": [
    "from NEAR_regex import NEAR_regex"
   ]
  },
  {
   "cell_type": "code",
   "execution_count": 10,
   "metadata": {},
   "outputs": [
    {
     "name": "stdout",
     "output_type": "stream",
     "text": [
      "Help on function NEAR_regex in module NEAR_regex:\n",
      "\n",
      "NEAR_regex(list_of_words, max_words_between=5, partial=False, cases_matter=False)\n",
      "        Parameters\n",
      "        ----------\n",
      "        list_of_words : list\n",
      "            A list of \"words\", each element is a string\n",
      "            \n",
      "            This program will return a regex that will look for times where word1 \n",
      "            is near word2, or word2 is near word 1.\n",
      "            \n",
      "            It works with multiple words: You can see if words1 is near word2 or\n",
      "            word3. \n",
      "            \n",
      "        max_words_between : int, optional\n",
      "            How many \"words\" are allowed between words in list_of_words. The default\n",
      "            is 5, but you should consider this carefully.\n",
      "            \n",
      "            \"words\" in between are chunks of characters. \"DON don don- don12 2454\" \n",
      "            is 5 words.\n",
      "            \n",
      "            This will not allow matches if the words are separated by a newline \n",
      "            (\"\n",
      "    \") character.\n",
      "            \n",
      "        partial : Boolean, optional\n",
      "            If true, will accept longer words than you give. For example, if one \n",
      "            word in your list is \"how\", it will match to \"howdy\". Be careful in \n",
      "            choosing this based on your problem. Partial makes more sense with \n",
      "            longer words. \n",
      "            The default is True.\n",
      "            \n",
      "        cases_matter: Boolean, optional bt IMPORTANT\n",
      "            If True, will return a regex string that will only catch cases where  \n",
      "            words in the string have the same case as given as input to this \n",
      "            function. For example, if one word here is \"Hi\", then the regex \n",
      "            produced by this function will not catch \"hi\".\n",
      "            \n",
      "            If false, will return a regex string that will only work if all letters\n",
      "            in search string are lowercase.\n",
      "            \n",
      "            The default is True.\n",
      "         \n",
      "            \n",
      "        Warning / Feature\n",
      "        -------\n",
      "        This WILL NOT \n",
      "        \n",
      "            \n",
      "        Unsure about speed\n",
      "        -------\n",
      "        I don't think this is a very \"fast\" function, but it should be robust. \n",
      "      \n",
      "        \n",
      "        Suggested use\n",
      "        -------\n",
      "        a_string_you_have = 'Jack and Jill went up the hill'\n",
      "        \n",
      "        # 1. define words and set up the regex\n",
      "        words = ['jack','hill']                         \n",
      "        rgx = NEAR_regex(words)                       \n",
      "        \n",
      "        # 2. convert the string to lowercase before searching!\n",
      "        a_string_you_have = a_string_you_have.lower()   \n",
      "        \n",
      "        # 3. len+findall+rgx = counts the number of times the word groups are close\n",
      "        count = len(re.findall(rgx,test))              \n",
      "        print(count)                                 \n",
      "    \n",
      "        \n",
      "        Returns\n",
      "        -------\n",
      "        A string which is a regex that can be used to look for cases where all the \n",
      "        input words are near each other.\n",
      "\n"
     ]
    }
   ],
   "source": [
    "help(NEAR_regex)"
   ]
  },
  {
   "cell_type": "code",
   "execution_count": 15,
   "metadata": {},
   "outputs": [
    {
     "data": {
      "text/plain": [
       "1"
      ]
     },
     "execution_count": 15,
     "metadata": {},
     "output_type": "execute_result"
    }
   ],
   "source": [
    "a_string_you_have = 'Jack and Jill went up the hills'\n",
    "words = ['jack','(hill|mountain)']\n",
    "rgx = NEAR_regex(words,max_words_between=5,partial=True)\n",
    "a_string_you_have = a_string_you_have.lower()\n",
    "len(re.findall(rgx,a_string_you_have))"
   ]
  },
  {
   "cell_type": "markdown",
   "metadata": {},
   "source": [
    "# Try this on \"actual 10k\""
   ]
  },
  {
   "cell_type": "code",
   "execution_count": 23,
   "metadata": {},
   "outputs": [
    {
     "data": {
      "text/plain": [
       "1"
      ]
     },
     "execution_count": 23,
     "metadata": {},
     "output_type": "execute_result"
    }
   ],
   "source": [
    "from bs4 import BeautifulSoup\n",
    "\n",
    "text = '''<p>       \\n\\r\\t      <b> hey</b>  THERE-I'm John </p> '''\n",
    "\n",
    "#golden rule steps 2-5\n",
    "lower = BeautifulSoup(text).get_text() .lower()\n",
    "no_punc = re.sub(r'\\W',' ',lower)\n",
    "cleaned = re.sub(r'\\s+',' ',no_punc).strip()\n",
    "cleaned\n",
    "\n",
    "len(re.findall(NEAR_regex(['hey','john']),  cleaned))"
   ]
  },
  {
   "cell_type": "code",
   "execution_count": null,
   "metadata": {},
   "outputs": [],
   "source": [
    "from bs4 import BeautifulSoup\n",
    "import requests\n",
    "\n",
    "url = 'https://www.sec.gov/Archives/edgar/data/1318605/0001564590-19-003165.txt'\n",
    "edgar_resp = requests.get(url)\n",
    "#save the url\n",
    "#then in the next part of the assignment, youll load it again\n",
    "#here- i'm skipping those steps so we can grab the document to look at\n",
    "loaded_file = edgar_resp.content\n",
    "#clean\n",
    "lower = BeautifulSoup(loaded_file,'html').get_text().lower()\n",
    "no_punch = re.sub(r'\\W',' ', lower)\n",
    "cleaned = re.sub(r'\\s',' ',no_punch).strip()\n",
    "\n",
    "words = ['lithium','risk']\n",
    "len(re.findall(NEAR_regex(words, max_words_between=10,partial=True), cleaned))\n"
   ]
  },
  {
   "cell_type": "code",
   "execution_count": null,
   "metadata": {},
   "outputs": [],
   "source": []
  }
 ],
 "metadata": {
  "kernelspec": {
   "display_name": "Python 3",
   "language": "python",
   "name": "python3"
  },
  "language_info": {
   "codemirror_mode": {
    "name": "ipython",
    "version": 3
   },
   "file_extension": ".py",
   "mimetype": "text/x-python",
   "name": "python",
   "nbconvert_exporter": "python",
   "pygments_lexer": "ipython3",
   "version": "3.7.1"
  }
 },
 "nbformat": 4,
 "nbformat_minor": 2
}
