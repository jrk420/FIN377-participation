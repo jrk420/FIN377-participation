{
 "cells": [
  {
   "cell_type": "code",
   "execution_count": 7,
   "metadata": {},
   "outputs": [],
   "source": [
    "import pandas as pd\n",
    "import pandas_datareader as pdr # IF NECESSARY, from terminal: pip install pandas_datareader \n",
    "import datetime\n",
    "import datadotworld as dw # follow instructions for installing and using dw in accompanying lecture\n",
    "import numpy as np"
   ]
  },
  {
   "cell_type": "code",
   "execution_count": 8,
   "metadata": {},
   "outputs": [],
   "source": [
    "start = datetime.datetime(2010, 1, 1) # you can specify start and end dates this way\n",
    "end = datetime.datetime(2013, 1, 27)\n",
    "macro_df = pdr.data.DataReader(['GDP','CPIAUCSL'], 'fred', start, end)"
   ]
  },
  {
   "cell_type": "code",
   "execution_count": 13,
   "metadata": {},
   "outputs": [
    {
     "name": "stdout",
     "output_type": "stream",
     "text": [
      "                  GDP  CPIAUCSL\n",
      "DATE                           \n",
      "2010-01-01  14721.350   217.488\n",
      "2010-02-01        NaN   217.281\n",
      "2010-03-01        NaN   217.353\n",
      "2010-04-01  14926.098   217.403\n",
      "2010-05-01        NaN   217.290\n",
      "2010-06-01        NaN   217.199\n",
      "2010-07-01  15079.917   217.605\n",
      "2010-08-01        NaN   217.923\n",
      "2010-09-01        NaN   218.275\n",
      "2010-10-01  15240.843   219.035\n",
      "2010-11-01        NaN   219.590\n",
      "2010-12-01        NaN   220.472\n",
      "2011-01-01  15285.828   221.187\n",
      "2011-02-01        NaN   221.898\n",
      "2011-03-01        NaN   223.046\n",
      "2011-04-01  15496.189   224.093\n",
      "2011-05-01        NaN   224.806\n",
      "2011-06-01        NaN   224.806\n",
      "2011-07-01  15591.850   225.395\n",
      "2011-08-01        NaN   226.106\n",
      "2011-09-01        NaN   226.597\n",
      "2011-10-01  15796.460   226.750\n",
      "2011-11-01        NaN   227.169\n",
      "2011-12-01        NaN   227.223\n",
      "2012-01-01  16019.758   227.842\n",
      "2012-02-01        NaN   228.329\n",
      "2012-03-01        NaN   228.807\n",
      "2012-04-01  16152.257   229.187\n",
      "2012-05-01        NaN   228.713\n",
      "2012-06-01        NaN   228.524\n",
      "2012-07-01  16257.151   228.590\n",
      "2012-08-01        NaN   229.918\n",
      "2012-09-01        NaN   231.015\n",
      "2012-10-01  16358.863   231.638\n",
      "2012-11-01        NaN   231.249\n",
      "2012-12-01        NaN   231.221\n",
      "2013-01-01  16569.591   231.679\n"
     ]
    }
   ],
   "source": [
    "print (macro_df)"
   ]
  },
  {
   "cell_type": "code",
   "execution_count": null,
   "metadata": {},
   "outputs": [],
   "source": []
  }
 ],
 "metadata": {
  "kernelspec": {
   "display_name": "Python 3",
   "language": "python",
   "name": "python3"
  },
  "language_info": {
   "codemirror_mode": {
    "name": "ipython",
    "version": 3
   },
   "file_extension": ".py",
   "mimetype": "text/x-python",
   "name": "python",
   "nbconvert_exporter": "python",
   "pygments_lexer": "ipython3",
   "version": "3.7.1"
  }
 },
 "nbformat": 4,
 "nbformat_minor": 2
}
