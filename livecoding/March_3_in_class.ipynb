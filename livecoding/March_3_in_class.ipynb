{
 "cells": [
  {
   "cell_type": "code",
   "execution_count": 1,
   "metadata": {},
   "outputs": [],
   "source": [
    "import pandas as pd\n",
    "import os"
   ]
  },
  {
   "cell_type": "code",
   "execution_count": null,
   "metadata": {},
   "outputs": [],
   "source": [
    "data = pd.read.stata('https.//github.com/LeDataSciFi/lectures-spr2020')"
   ]
  },
  {
   "cell_type": "code",
   "execution_count": null,
   "metadata": {},
   "outputs": [],
   "source": [
    "data[['gvkey','fyear','CIK','FDATE','Form','CoName','FName']]"
   ]
  },
  {
   "cell_type": "code",
   "execution_count": null,
   "metadata": {},
   "outputs": [],
   "source": [
    "#for row in data <<<<<<<-----sort of but not really\n",
    "row=data.iloc[2]\n",
    "url = 'sec.gov/Archives/'+row['FName']\n",
    "folder = 'edgar_filings/cik_' +str(int(row['CIK']))+'/Form_'+row['Form']+'/filed_in_'+str(int(row['fyear']))+'/'\n",
    "os.makedirs(folder)\n",
    "filename= row['FName'].split('/')[-1]\n",
    "filename\n",
    "pathname= folder + filename\n",
    "pathname\n",
    "#if not os.path.exists(pathname):\n",
    "#    download"
   ]
  },
  {
   "cell_type": "code",
   "execution_count": null,
   "metadata": {},
   "outputs": [],
   "source": []
  }
 ],
 "metadata": {
  "kernelspec": {
   "display_name": "Python 3",
   "language": "python",
   "name": "python3"
  },
  "language_info": {
   "codemirror_mode": {
    "name": "ipython",
    "version": 3
   },
   "file_extension": ".py",
   "mimetype": "text/x-python",
   "name": "python",
   "nbconvert_exporter": "python",
   "pygments_lexer": "ipython3",
   "version": "3.7.1"
  }
 },
 "nbformat": 4,
 "nbformat_minor": 2
}
